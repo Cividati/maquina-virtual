{
 "cells": [
  {
   "cell_type": "markdown",
   "id": "aa9e4c29",
   "metadata": {},
   "source": [
    "# 1 Projeto Máquina Virtual\n",
    "\n",
    "- Integrantes:\n",
    "- - Rubens Cividati - GEC - 1391\n",
    "- - Samuel Kenzo - GES - 110\n",
    "\n",
    "## Informações Gerais\n",
    "- Linguagem: Python 3.10\n",
    "- Quantidade de Bits: 32 bits\n",
    "- Instruções Aceitas: Tipo R e Tipo I\n",
    "\n",
    "### Entrada de bits\n",
    "- op: 8 bits [0  -  7] operação\n",
    "- s1: 8 bits [8  - 15] destino\n",
    "- s2: 8 bits [16 - 23] registrador 1\n",
    "- s3: 8 bits [24 - 31] registrador 2\n",
    "\n",
    "### Instruções\n",
    "- Aritméticas:\n",
    "    - - add(s1, s2, s3) Somar os registradores s2 e s3, e salvar o resultado em s1\n",
    "    - - sub(s1, s2 ,s3) Subtrair os registradores s2 e s3, e salvar o resultado em s1\n",
    "    - - addi(s1, s2, C) Somar o registrador s2 com uma constante C, e salvar o resultado em s1\n",
    "    - - subi(s1, s2 ,C) Subtrair o registrador s2 com uma constante C, e salvar o resultado em s1\n",
    "- Lógicas:\n",
    "    - - and(s1, s2, s3) Realizar operação E com os registradores s2 e s3, e salvar o resulado em s1\n",
    "    - - or(s1, s2, s3) Realizar operação OU com os registradores s2 e s3, e salvar o resulado em s1"
   ]
  },
  {
   "cell_type": "code",
   "execution_count": 10,
   "id": "27f42738",
   "metadata": {},
   "outputs": [],
   "source": [
    "class vm:\n",
    "    OP = bin(0)\n",
    "    S1 = bin(0)\n",
    "    S2 = bin(0)\n",
    "    S3 = bin(0)\n",
    "    registrador = {\n",
    "        '$S0': 0,\n",
    "        '$S1': 0,\n",
    "        '$S2': 0,\n",
    "        '$S3': 0,\n",
    "        '$S4': 0,\n",
    "        '$S5': 0,\n",
    "        '$S6': 0,\n",
    "        '$S7': 0,\n",
    "        '$S8': 0,\n",
    "        '$S9': 0,\n",
    "        'PC':0\n",
    "    }\n",
    "    \n",
    "    def __init__(self, bits):\n",
    "        # decoder here\n",
    "        self.decoder(bits)\n",
    "        \n",
    "    def decoder(self, bits):\n",
    "        bits = bits.replace('_','')\n",
    "        bits = bits.replace(' ','')\n",
    "        \n",
    "        # receber 32 bits\n",
    "        self.OP = bin(int(bits[:8],2))\n",
    "        self.S1 = bin(int(bits[8:16],2))\n",
    "        self.S2 = bin(int(bits[16:24],2))\n",
    "        self.S3 = bin(int(bits[24:],2))\n",
    "    \n",
    "    def li(self, nome_registrador, valor):\n",
    "        # LOAD IMMEDIATE\n",
    "        self.registrador[nome_registrador] = valor\n",
    "        \n",
    "    def operation(self):\n",
    "        if (self.OP)==bin(int('0b00',2)):\n",
    "            # add\n",
    "            pass\n",
    "        elif (self.OP)==bin(int('0b01',2)):\n",
    "            # addi\n",
    "            pass\n",
    "        elif (self.OP)==bin(int('0b10',2)):\n",
    "            # sub\n",
    "            pass\n",
    "        elif (self.OP)==bin(int('0b11',2)):\n",
    "            # subi\n",
    "            pass\n",
    "        elif (self.OP)==bin(int('0b100',2)):\n",
    "            # and\n",
    "            pass\n",
    "        elif (self.OP)==bin(int('0b101',2)):\n",
    "            # or\n",
    "            pass  \n",
    "        \n",
    "    def get_R(self, register_name):\n",
    "        # get register name by binary\n",
    "        return '$S'+str(int(register_name, 2))\n",
    "    \n",
    "    def add(self):\n",
    "        self.registrador[self.get_R(self.S1)] = self.registrador[self.get_R(self.S3)] + self.registrador[self.get_R(self.S2)]\n",
    "        return self.registrador[self.get_R(self.S1)]\n",
    "        "
   ]
  },
  {
   "cell_type": "code",
   "execution_count": 11,
   "id": "6f005910",
   "metadata": {},
   "outputs": [],
   "source": [
    "bits='0000_0010 0000_0001 0000_0010 0000_0011'\n",
    "    #     OP    POS REG 1 POS REG 2 POS REG 3\n",
    "maquina = vm(bits)\n",
    "maquina.li('$S2', 3)\n",
    "maquina.li('$S3', 4)"
   ]
  },
  {
   "cell_type": "code",
   "execution_count": 12,
   "id": "65c792f8",
   "metadata": {},
   "outputs": [
    {
     "name": "stdout",
     "output_type": "stream",
     "text": [
      "a\n"
     ]
    },
    {
     "data": {
      "text/plain": [
       "7"
      ]
     },
     "execution_count": 12,
     "metadata": {},
     "output_type": "execute_result"
    }
   ],
   "source": [
    "maquina.add()"
   ]
  }
 ],
 "metadata": {
  "kernelspec": {
   "display_name": "Python 3 (ipykernel)",
   "language": "python",
   "name": "python3"
  },
  "language_info": {
   "codemirror_mode": {
    "name": "ipython",
    "version": 3
   },
   "file_extension": ".py",
   "mimetype": "text/x-python",
   "name": "python",
   "nbconvert_exporter": "python",
   "pygments_lexer": "ipython3",
   "version": "3.9.6"
  }
 },
 "nbformat": 4,
 "nbformat_minor": 5
}
