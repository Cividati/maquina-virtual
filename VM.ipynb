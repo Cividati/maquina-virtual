{
 "cells": [
  {
   "cell_type": "markdown",
   "id": "aa9e4c29",
   "metadata": {},
   "source": [
    "# Projeto Máquina Virtual\n",
    "\n",
    "## Repositório:\n",
    "[github.com/cividati/maquina-virtual](github.com/cividati/maquina-virtual)\n",
    "\n",
    "## Integrantes:\n",
    "- - Luiza Monroe - GEC - 1273\n",
    "- - Rubens Cividati - GEC - 1391\n",
    "- - Samuel Kenzo - GES - 110\n",
    "\n",
    "## Informações Gerais\n",
    "- Linguagem: Python 3.10\n",
    "- Quantidade de Bits: 32 bits\n",
    "- Instruções Aceitas: Tipo R e Tipo I\n",
    "\n",
    "### Entrada de bits\n",
    "- op: 8 bits [0  -  7] operação\n",
    "- s1: 8 bits [8  - 15] destino\n",
    "- s2: 8 bits [16 - 23] registrador 1\n",
    "- s3: 8 bits [24 - 31] registrador 2\n",
    "\n",
    "### Instruções\n",
    "- Aritméticas:\n",
    "    - - add(s1, s2, s3) Somar os registradores s2 e s3, e salvar o resultado em s1\n",
    "    - - sub(s1, s2 ,s3) Subtrair os registradores s2 e s3, e salvar o resultado em s1\n",
    "    - - addi(s1, s2, C) Somar o registrador s2 com uma constante C, e salvar o resultado em s1\n",
    "    - - subi(s1, s2 ,C) Subtrair o registrador s2 com uma constante C, e salvar o resultado em s1\n",
    "- Lógicas:\n",
    "    - - and(s1, s2, s3) Realizar operação E com os registradores s2 e s3, e salvar o resulado em s1\n",
    "    - - or(s1, s2, s3) Realizar operação OU com os registradores s2 e s3, e salvar o resulado em s1\n",
    "\n",
    "### Diagrama\n",
    "![Image](diagram.png)"
   ]
  },
  {
   "cell_type": "code",
   "execution_count": 89,
   "id": "27f42738",
   "metadata": {},
   "outputs": [],
   "source": [
    "class vm:\n",
    "\n",
    "    registrador = {\n",
    "        '$S0': 0,\n",
    "        '$S1': 0,\n",
    "        '$S2': 0,\n",
    "        '$S3': 0,\n",
    "        '$S4': 0,\n",
    "        '$S5': 0,\n",
    "        '$S6': 0,\n",
    "        '$S7': 0,\n",
    "        '$S8': 0,\n",
    "        '$S9': 0,\n",
    "        'PC': 0\n",
    "    }\n",
    "\n",
    "    def mostrar_registradores(self):\n",
    "        for i in self.registrador:\n",
    "            print(f\"{i}: {self.registrador[i]}\")\n",
    "\n",
    "    def li(self, nome_registrador, valor):\n",
    "        # LOAD IMMEDIATE\n",
    "        self.registrador[nome_registrador] = valor\n",
    "        return self.registrador[nome_registrador] \n",
    "\n",
    "    def add(self, destino, r1, r2):\n",
    "        # destino = r1 + r2\n",
    "        self.registrador[destino] = self.registrador[r1] + self.registrador[r2]\n",
    "        return self.registrador[destino]\n",
    "\n",
    "    def addi(self, r1, r2, constante):\n",
    "        # destino = destino + constante\n",
    "        self.registrador[r1] = self.registrador[r2] + constante\n",
    "        return self.registrador[r1]\n",
    "\n",
    "    def sub(self, destino, r1, r2):\n",
    "        # destino = r1 - r2\n",
    "        self.registrador[destino] = self.registrador[r1] - self.registrador[r2] \n",
    "        return self.registrador[destino]\n",
    "\n",
    "    def subi(self, r1, r2, constante):\n",
    "        # destino = destino - constante\n",
    "        self.registrador[r1] = self.registrador[r2] - constante\n",
    "        return self.registrador[r1]\n",
    "\n",
    "    # As operações bitwise funcionam entre integers entao converte o regst em int, faz a op e volta pra bin\n",
    "    def __and__(self, destino, r1, r2):\n",
    "        self.registrador[destino] = self.registrador[r1] & self.registrador[r2]\n",
    "        return self.registrador[destino]\n",
    "\n",
    "    def __or__(self, destino, r1, r2):\n",
    "        self.registrador[destino] = self.registrador[r1] | self.registrador[r2]\n",
    "        return self.registrador[destino]"
   ]
  },
  {
   "cell_type": "code",
   "execution_count": 90,
   "metadata": {},
   "outputs": [],
   "source": [
    "# inicialização\n",
    "maquina = vm()"
   ]
  },
  {
   "cell_type": "code",
   "execution_count": 91,
   "metadata": {},
   "outputs": [
    {
     "data": {
      "text/plain": [
       "4"
      ]
     },
     "execution_count": 91,
     "metadata": {},
     "output_type": "execute_result"
    }
   ],
   "source": [
    "# Carregar registradores\n",
    "\n",
    "maquina.li('$S0', 0)\n",
    "maquina.li('$S1', 2)\n",
    "maquina.li('$S2', 3)\n",
    "maquina.li('$S3', 4)"
   ]
  },
  {
   "cell_type": "code",
   "execution_count": 92,
   "metadata": {},
   "outputs": [
    {
     "data": {
      "text/plain": [
       "5"
      ]
     },
     "execution_count": 92,
     "metadata": {},
     "output_type": "execute_result"
    }
   ],
   "source": [
    "# add\n",
    "maquina.add('$S0', '$S1', '$S2')"
   ]
  },
  {
   "cell_type": "code",
   "execution_count": 93,
   "metadata": {},
   "outputs": [
    {
     "data": {
      "text/plain": [
       "-1"
      ]
     },
     "execution_count": 93,
     "metadata": {},
     "output_type": "execute_result"
    }
   ],
   "source": [
    "# sub\n",
    "maquina.sub('$S0', '$S1', '$S2')"
   ]
  },
  {
   "cell_type": "code",
   "execution_count": 94,
   "metadata": {},
   "outputs": [
    {
     "data": {
      "text/plain": [
       "34"
      ]
     },
     "execution_count": 94,
     "metadata": {},
     "output_type": "execute_result"
    }
   ],
   "source": [
    "# addi\n",
    "maquina.addi('$S1','$S1', 32)"
   ]
  },
  {
   "cell_type": "code",
   "execution_count": 95,
   "metadata": {},
   "outputs": [
    {
     "data": {
      "text/plain": [
       "2"
      ]
     },
     "execution_count": 95,
     "metadata": {},
     "output_type": "execute_result"
    }
   ],
   "source": [
    "# subi\n",
    "maquina.subi('$S1','$S1', 32)"
   ]
  },
  {
   "cell_type": "code",
   "execution_count": 96,
   "metadata": {},
   "outputs": [
    {
     "data": {
      "text/plain": [
       "2"
      ]
     },
     "execution_count": 96,
     "metadata": {},
     "output_type": "execute_result"
    }
   ],
   "source": [
    "# and\n",
    "maquina.__and__('$S0', '$S1', '$S2')"
   ]
  },
  {
   "cell_type": "code",
   "execution_count": 97,
   "metadata": {},
   "outputs": [
    {
     "data": {
      "text/plain": [
       "3"
      ]
     },
     "execution_count": 97,
     "metadata": {},
     "output_type": "execute_result"
    }
   ],
   "source": [
    "# or\n",
    "maquina.__or__('$S0', '$S1', '$S2')"
   ]
  },
  {
   "cell_type": "code",
   "execution_count": 98,
   "metadata": {},
   "outputs": [
    {
     "name": "stdout",
     "output_type": "stream",
     "text": [
      "$S0: 3\n",
      "$S1: 2\n",
      "$S2: 3\n",
      "$S3: 4\n",
      "$S4: 0\n",
      "$S5: 0\n",
      "$S6: 0\n",
      "$S7: 0\n",
      "$S8: 0\n",
      "$S9: 0\n",
      "PC: 0\n"
     ]
    }
   ],
   "source": [
    "# mostrar registradores\n",
    "maquina.mostrar_registradores()"
   ]
  }
 ],
 "metadata": {
  "interpreter": {
   "hash": "4eae043ba5f7f6f0048f9013d0dbaafc0d936e6e6ed71dfbe88d29c3846022cc"
  },
  "kernelspec": {
   "display_name": "Python 3.10.0 64-bit",
   "name": "python3"
  },
  "language_info": {
   "codemirror_mode": {
    "name": "ipython",
    "version": 3
   },
   "file_extension": ".py",
   "mimetype": "text/x-python",
   "name": "python",
   "nbconvert_exporter": "python",
   "pygments_lexer": "ipython3",
   "version": "3.10.0"
  }
 },
 "nbformat": 4,
 "nbformat_minor": 5
}
